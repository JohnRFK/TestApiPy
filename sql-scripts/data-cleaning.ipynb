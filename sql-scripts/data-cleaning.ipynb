{
 "cells": [
  {
   "cell_type": "markdown",
   "metadata": {},
   "source": [
    "# Limpieza de datos"
   ]
  },
  {
   "cell_type": "code",
   "execution_count": 1,
   "metadata": {},
   "outputs": [],
   "source": [
    "import pandas as pd"
   ]
  },
  {
   "cell_type": "code",
   "execution_count": 2,
   "metadata": {},
   "outputs": [
    {
     "data": {
      "text/html": [
       "<div>\n",
       "<style scoped>\n",
       "    .dataframe tbody tr th:only-of-type {\n",
       "        vertical-align: middle;\n",
       "    }\n",
       "\n",
       "    .dataframe tbody tr th {\n",
       "        vertical-align: top;\n",
       "    }\n",
       "\n",
       "    .dataframe thead th {\n",
       "        text-align: right;\n",
       "    }\n",
       "</style>\n",
       "<table border=\"1\" class=\"dataframe\">\n",
       "  <thead>\n",
       "    <tr style=\"text-align: right;\">\n",
       "      <th></th>\n",
       "      <th>id</th>\n",
       "      <th>name</th>\n",
       "      <th>company_id</th>\n",
       "      <th>amount</th>\n",
       "      <th>status</th>\n",
       "      <th>created_at</th>\n",
       "      <th>paid_at</th>\n",
       "    </tr>\n",
       "  </thead>\n",
       "  <tbody>\n",
       "    <tr>\n",
       "      <th>0</th>\n",
       "      <td>48ba4bdbfb56ceebb32f2bd0263e759be942af3d</td>\n",
       "      <td>MiPasajefy</td>\n",
       "      <td>cbf1c8b09cd5b549416d49d220a40cbd317f952e</td>\n",
       "      <td>3.00</td>\n",
       "      <td>voided</td>\n",
       "      <td>2019-03-19</td>\n",
       "      <td>NaN</td>\n",
       "    </tr>\n",
       "    <tr>\n",
       "      <th>1</th>\n",
       "      <td>05fc6f5ac66b6ee7e4253aa5d0c2299eb47aaaf4</td>\n",
       "      <td>MiPasajefy</td>\n",
       "      <td>cbf1c8b09cd5b549416d49d220a40cbd317f952e</td>\n",
       "      <td>3.00</td>\n",
       "      <td>pending_payment</td>\n",
       "      <td>2019-05-06</td>\n",
       "      <td>NaN</td>\n",
       "    </tr>\n",
       "    <tr>\n",
       "      <th>2</th>\n",
       "      <td>2cdce231c1fc6a2061bfa2f1d978351fe217245d</td>\n",
       "      <td>MiPasajefy</td>\n",
       "      <td>cbf1c8b09cd5b549416d49d220a40cbd317f952e</td>\n",
       "      <td>3.00</td>\n",
       "      <td>voided</td>\n",
       "      <td>2019-02-22</td>\n",
       "      <td>NaN</td>\n",
       "    </tr>\n",
       "    <tr>\n",
       "      <th>3</th>\n",
       "      <td>81633ba310a50b673efd469c37139576982901aa</td>\n",
       "      <td>MiPasajefy</td>\n",
       "      <td>cbf1c8b09cd5b549416d49d220a40cbd317f952e</td>\n",
       "      <td>102.61</td>\n",
       "      <td>paid</td>\n",
       "      <td>2019-02-27</td>\n",
       "      <td>2019-02-27</td>\n",
       "    </tr>\n",
       "    <tr>\n",
       "      <th>4</th>\n",
       "      <td>6ccfc4c24e788e4bca448df343698782db6b0c0b</td>\n",
       "      <td>MiPasajefy</td>\n",
       "      <td>cbf1c8b09cd5b549416d49d220a40cbd317f952e</td>\n",
       "      <td>184.49</td>\n",
       "      <td>paid</td>\n",
       "      <td>2019-02-05</td>\n",
       "      <td>2019-02-05</td>\n",
       "    </tr>\n",
       "  </tbody>\n",
       "</table>\n",
       "</div>"
      ],
      "text/plain": [
       "                                         id        name  \\\n",
       "0  48ba4bdbfb56ceebb32f2bd0263e759be942af3d  MiPasajefy   \n",
       "1  05fc6f5ac66b6ee7e4253aa5d0c2299eb47aaaf4  MiPasajefy   \n",
       "2  2cdce231c1fc6a2061bfa2f1d978351fe217245d  MiPasajefy   \n",
       "3  81633ba310a50b673efd469c37139576982901aa  MiPasajefy   \n",
       "4  6ccfc4c24e788e4bca448df343698782db6b0c0b  MiPasajefy   \n",
       "\n",
       "                                 company_id  amount           status  \\\n",
       "0  cbf1c8b09cd5b549416d49d220a40cbd317f952e    3.00           voided   \n",
       "1  cbf1c8b09cd5b549416d49d220a40cbd317f952e    3.00  pending_payment   \n",
       "2  cbf1c8b09cd5b549416d49d220a40cbd317f952e    3.00           voided   \n",
       "3  cbf1c8b09cd5b549416d49d220a40cbd317f952e  102.61             paid   \n",
       "4  cbf1c8b09cd5b549416d49d220a40cbd317f952e  184.49             paid   \n",
       "\n",
       "   created_at     paid_at  \n",
       "0  2019-03-19         NaN  \n",
       "1  2019-05-06         NaN  \n",
       "2  2019-02-22         NaN  \n",
       "3  2019-02-27  2019-02-27  \n",
       "4  2019-02-05  2019-02-05  "
      ]
     },
     "execution_count": 2,
     "metadata": {},
     "output_type": "execute_result"
    }
   ],
   "source": [
    "df = pd.read_csv('/home/johnrfk/TestApiPy/dataset/data_prueba_tecnica.csv')\n",
    "df.head()"
   ]
  },
  {
   "cell_type": "markdown",
   "metadata": {},
   "source": [
    "Hago un análisis rápido de los tipos de datos que capturó pandas al extraer el csv."
   ]
  },
  {
   "cell_type": "code",
   "execution_count": 3,
   "metadata": {},
   "outputs": [
    {
     "data": {
      "text/plain": [
       "id             object\n",
       "name           object\n",
       "company_id     object\n",
       "amount        float64\n",
       "status         object\n",
       "created_at     object\n",
       "paid_at        object\n",
       "dtype: object"
      ]
     },
     "execution_count": 3,
     "metadata": {},
     "output_type": "execute_result"
    }
   ],
   "source": [
    "df.dtypes"
   ]
  },
  {
   "cell_type": "markdown",
   "metadata": {},
   "source": [
    "Se determina que la longitud de los ids son mayores a los que describe la tabla, por lo que se concluye que se medirá el máximo de los mismos."
   ]
  },
  {
   "cell_type": "code",
   "execution_count": 4,
   "metadata": {},
   "outputs": [
    {
     "data": {
      "text/plain": [
       "<bound method Series.max of 0       40\n",
       "1       40\n",
       "2       40\n",
       "3       40\n",
       "4       40\n",
       "        ..\n",
       "9995    40\n",
       "9996    40\n",
       "9997    40\n",
       "9998    40\n",
       "9999    40\n",
       "Name: id, Length: 10000, dtype: int64>"
      ]
     },
     "execution_count": 4,
     "metadata": {},
     "output_type": "execute_result"
    }
   ],
   "source": [
    "df['id'] = df['id'].astype(str)\n",
    "df['id'].apply(len).max"
   ]
  },
  {
   "cell_type": "markdown",
   "metadata": {},
   "source": [
    "Se busca si hay valores que sobrepasen lo que se debería permitir en la base de datos."
   ]
  },
  {
   "cell_type": "code",
   "execution_count": 5,
   "metadata": {},
   "outputs": [
    {
     "data": {
      "text/plain": [
       "2.9999999999999997e+34"
      ]
     },
     "execution_count": 5,
     "metadata": {},
     "output_type": "execute_result"
    }
   ],
   "source": [
    "df['amount'].max()"
   ]
  },
  {
   "cell_type": "markdown",
   "metadata": {},
   "source": [
    "Filtramos esos valores que sobrepasen los admitidos en la base de datos convirtiéndolos en 0.00."
   ]
  },
  {
   "cell_type": "code",
   "execution_count": 6,
   "metadata": {},
   "outputs": [],
   "source": [
    "df['amount'] = df['amount'].where(df['amount'] < pow(10, 16), 0.0)"
   ]
  },
  {
   "cell_type": "markdown",
   "metadata": {},
   "source": [
    "Se exporta el dataframe a csv"
   ]
  },
  {
   "cell_type": "code",
   "execution_count": 7,
   "metadata": {},
   "outputs": [],
   "source": [
    "df.to_csv(\"tosql.csv\", index=False)"
   ]
  }
 ],
 "metadata": {
  "kernelspec": {
   "display_name": "venv",
   "language": "python",
   "name": "python3"
  },
  "language_info": {
   "codemirror_mode": {
    "name": "ipython",
    "version": 3
   },
   "file_extension": ".py",
   "mimetype": "text/x-python",
   "name": "python",
   "nbconvert_exporter": "python",
   "pygments_lexer": "ipython3",
   "version": "3.10.12"
  }
 },
 "nbformat": 4,
 "nbformat_minor": 2
}
